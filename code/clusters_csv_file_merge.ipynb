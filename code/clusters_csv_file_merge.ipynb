{
 "cells": [
  {
   "cell_type": "markdown",
   "id": "279c79a0-ce2c-4dae-9037-dabfa1b56655",
   "metadata": {
    "tags": []
   },
   "source": [
    "# Clusters CSV File Merge"
   ]
  },
  {
   "cell_type": "code",
   "execution_count": 1,
   "id": "2881a79b-a820-4331-b5b2-4161b9f48d58",
   "metadata": {},
   "outputs": [],
   "source": [
    "import os\n",
    "import pandas as pd"
   ]
  },
  {
   "cell_type": "code",
   "execution_count": 2,
   "id": "7bb875c2-a2b0-4db8-a810-ce34a8810faa",
   "metadata": {
    "tags": []
   },
   "outputs": [],
   "source": [
    "path='../dataset/clusters_csv/'\n",
    "items=os.listdir('../dataset/clusters_csv/')"
   ]
  },
  {
   "cell_type": "code",
   "execution_count": 3,
   "id": "77ffc82c-ac69-46d2-9fb9-5e3779596ed1",
   "metadata": {},
   "outputs": [],
   "source": [
    "all_filenames = [path+i for i in items]"
   ]
  },
  {
   "cell_type": "code",
   "execution_count": 4,
   "id": "c0ea8360-ab15-4660-a2ff-2429484e1260",
   "metadata": {
    "tags": []
   },
   "outputs": [
    {
     "data": {
      "text/plain": [
       "['../dataset/clusters_csv/150703-clusters.csv',\n",
       " '../dataset/clusters_csv/150716-clusters.csv',\n",
       " '../dataset/clusters_csv/150806-clusters.csv',\n",
       " '../dataset/clusters_csv/150811-clusters.csv',\n",
       " '../dataset/clusters_csv/150814-clusters.csv']"
      ]
     },
     "execution_count": 4,
     "metadata": {},
     "output_type": "execute_result"
    }
   ],
   "source": [
    "all_filenames[0:5]"
   ]
  },
  {
   "cell_type": "code",
   "execution_count": 5,
   "id": "d9051228-7191-440b-9515-070cf77d8bc1",
   "metadata": {},
   "outputs": [],
   "source": [
    "#Column names to be added\n",
    "column_names=[\"Number Of Cases\",\"Street Address\",\"Latitude\",\"Longitude\",\n",
    "              \"Cluster Number\",\"Recent Cases In Cluster\",\"Total Cases In Cluster\",\"Date\",\"Month Number\"]"
   ]
  },
  {
   "cell_type": "code",
   "execution_count": 6,
   "id": "682f1e33-9090-4041-b8ac-c0ef56ff36bd",
   "metadata": {},
   "outputs": [
    {
     "data": {
      "text/html": [
       "<div>\n",
       "<style scoped>\n",
       "    .dataframe tbody tr th:only-of-type {\n",
       "        vertical-align: middle;\n",
       "    }\n",
       "\n",
       "    .dataframe tbody tr th {\n",
       "        vertical-align: top;\n",
       "    }\n",
       "\n",
       "    .dataframe thead th {\n",
       "        text-align: right;\n",
       "    }\n",
       "</style>\n",
       "<table border=\"1\" class=\"dataframe\">\n",
       "  <thead>\n",
       "    <tr style=\"text-align: right;\">\n",
       "      <th></th>\n",
       "      <th>Number Of Cases</th>\n",
       "      <th>Street Address</th>\n",
       "      <th>Latitude</th>\n",
       "      <th>Longitude</th>\n",
       "      <th>Cluster Number</th>\n",
       "      <th>Recent Cases In Cluster</th>\n",
       "      <th>Total Cases In Cluster</th>\n",
       "      <th>Date</th>\n",
       "      <th>Month Number</th>\n",
       "    </tr>\n",
       "  </thead>\n",
       "  <tbody>\n",
       "    <tr>\n",
       "      <th>0</th>\n",
       "      <td>4</td>\n",
       "      <td>bishan street 22 (block 232)</td>\n",
       "      <td>1.358286</td>\n",
       "      <td>103.845226</td>\n",
       "      <td>1</td>\n",
       "      <td>24</td>\n",
       "      <td>83</td>\n",
       "      <td>150703</td>\n",
       "      <td>7</td>\n",
       "    </tr>\n",
       "    <tr>\n",
       "      <th>1</th>\n",
       "      <td>7</td>\n",
       "      <td>bishan street 22 (block 233)</td>\n",
       "      <td>1.358639</td>\n",
       "      <td>103.845259</td>\n",
       "      <td>1</td>\n",
       "      <td>24</td>\n",
       "      <td>83</td>\n",
       "      <td>150703</td>\n",
       "      <td>7</td>\n",
       "    </tr>\n",
       "    <tr>\n",
       "      <th>2</th>\n",
       "      <td>3</td>\n",
       "      <td>bishan street 22 (block 234)</td>\n",
       "      <td>1.358390</td>\n",
       "      <td>103.845955</td>\n",
       "      <td>1</td>\n",
       "      <td>24</td>\n",
       "      <td>83</td>\n",
       "      <td>150703</td>\n",
       "      <td>7</td>\n",
       "    </tr>\n",
       "    <tr>\n",
       "      <th>3</th>\n",
       "      <td>1</td>\n",
       "      <td>bishan street 22 (block 235)</td>\n",
       "      <td>1.358719</td>\n",
       "      <td>103.846477</td>\n",
       "      <td>1</td>\n",
       "      <td>24</td>\n",
       "      <td>83</td>\n",
       "      <td>150703</td>\n",
       "      <td>7</td>\n",
       "    </tr>\n",
       "    <tr>\n",
       "      <th>4</th>\n",
       "      <td>4</td>\n",
       "      <td>bishan street 22 (block 236)</td>\n",
       "      <td>1.359041</td>\n",
       "      <td>103.846849</td>\n",
       "      <td>1</td>\n",
       "      <td>24</td>\n",
       "      <td>83</td>\n",
       "      <td>150703</td>\n",
       "      <td>7</td>\n",
       "    </tr>\n",
       "    <tr>\n",
       "      <th>...</th>\n",
       "      <td>...</td>\n",
       "      <td>...</td>\n",
       "      <td>...</td>\n",
       "      <td>...</td>\n",
       "      <td>...</td>\n",
       "      <td>...</td>\n",
       "      <td>...</td>\n",
       "      <td>...</td>\n",
       "      <td>...</td>\n",
       "    </tr>\n",
       "    <tr>\n",
       "      <th>130</th>\n",
       "      <td>1</td>\n",
       "      <td>woodlands drive 14 (block 515)</td>\n",
       "      <td>1.434931</td>\n",
       "      <td>103.790309</td>\n",
       "      <td>40</td>\n",
       "      <td>2</td>\n",
       "      <td>2</td>\n",
       "      <td>150703</td>\n",
       "      <td>7</td>\n",
       "    </tr>\n",
       "    <tr>\n",
       "      <th>131</th>\n",
       "      <td>1</td>\n",
       "      <td>yishun avenue 2 (block 791)</td>\n",
       "      <td>1.420556</td>\n",
       "      <td>103.833469</td>\n",
       "      <td>41</td>\n",
       "      <td>2</td>\n",
       "      <td>2</td>\n",
       "      <td>150703</td>\n",
       "      <td>7</td>\n",
       "    </tr>\n",
       "    <tr>\n",
       "      <th>132</th>\n",
       "      <td>1</td>\n",
       "      <td>yishun ring road (block 796)</td>\n",
       "      <td>1.419719</td>\n",
       "      <td>103.833325</td>\n",
       "      <td>41</td>\n",
       "      <td>2</td>\n",
       "      <td>2</td>\n",
       "      <td>150703</td>\n",
       "      <td>7</td>\n",
       "    </tr>\n",
       "    <tr>\n",
       "      <th>133</th>\n",
       "      <td>1</td>\n",
       "      <td>yishun avenue 4 (block 653)</td>\n",
       "      <td>1.423180</td>\n",
       "      <td>103.839630</td>\n",
       "      <td>42</td>\n",
       "      <td>2</td>\n",
       "      <td>2</td>\n",
       "      <td>150703</td>\n",
       "      <td>7</td>\n",
       "    </tr>\n",
       "    <tr>\n",
       "      <th>134</th>\n",
       "      <td>1</td>\n",
       "      <td>yishun street 61 (block 645)</td>\n",
       "      <td>1.421930</td>\n",
       "      <td>103.838195</td>\n",
       "      <td>42</td>\n",
       "      <td>2</td>\n",
       "      <td>2</td>\n",
       "      <td>150703</td>\n",
       "      <td>7</td>\n",
       "    </tr>\n",
       "  </tbody>\n",
       "</table>\n",
       "<p>135 rows × 9 columns</p>\n",
       "</div>"
      ],
      "text/plain": [
       "     Number Of Cases                  Street Address  Latitude   Longitude  \\\n",
       "0                  4    bishan street 22 (block 232)  1.358286  103.845226   \n",
       "1                  7    bishan street 22 (block 233)  1.358639  103.845259   \n",
       "2                  3    bishan street 22 (block 234)  1.358390  103.845955   \n",
       "3                  1    bishan street 22 (block 235)  1.358719  103.846477   \n",
       "4                  4    bishan street 22 (block 236)  1.359041  103.846849   \n",
       "..               ...                             ...       ...         ...   \n",
       "130                1  woodlands drive 14 (block 515)  1.434931  103.790309   \n",
       "131                1     yishun avenue 2 (block 791)  1.420556  103.833469   \n",
       "132                1    yishun ring road (block 796)  1.419719  103.833325   \n",
       "133                1     yishun avenue 4 (block 653)  1.423180  103.839630   \n",
       "134                1    yishun street 61 (block 645)  1.421930  103.838195   \n",
       "\n",
       "     Cluster Number  Recent Cases In Cluster  Total Cases In Cluster    Date  \\\n",
       "0                 1                       24                      83  150703   \n",
       "1                 1                       24                      83  150703   \n",
       "2                 1                       24                      83  150703   \n",
       "3                 1                       24                      83  150703   \n",
       "4                 1                       24                      83  150703   \n",
       "..              ...                      ...                     ...     ...   \n",
       "130              40                        2                       2  150703   \n",
       "131              41                        2                       2  150703   \n",
       "132              41                        2                       2  150703   \n",
       "133              42                        2                       2  150703   \n",
       "134              42                        2                       2  150703   \n",
       "\n",
       "     Month Number  \n",
       "0               7  \n",
       "1               7  \n",
       "2               7  \n",
       "3               7  \n",
       "4               7  \n",
       "..            ...  \n",
       "130             7  \n",
       "131             7  \n",
       "132             7  \n",
       "133             7  \n",
       "134             7  \n",
       "\n",
       "[135 rows x 9 columns]"
      ]
     },
     "execution_count": 6,
     "metadata": {},
     "output_type": "execute_result"
    }
   ],
   "source": [
    "#Read one csv file and check the data\n",
    "file_1 = pd.read_csv(\"../dataset/clusters_csv/150703-clusters.csv\",header=None,names=column_names)\n",
    "file_1"
   ]
  },
  {
   "cell_type": "code",
   "execution_count": 7,
   "id": "0fa75cf0-3090-4cad-8515-c1d20fcef8fc",
   "metadata": {},
   "outputs": [],
   "source": [
    "#Combine all csv files\n",
    "combined_csv = pd.concat([pd.read_csv(f,header=None,names=column_names) for f in all_filenames],ignore_index=True)"
   ]
  },
  {
   "cell_type": "code",
   "execution_count": 8,
   "id": "9adacca1-4473-476d-b3c9-10ba636dc806",
   "metadata": {},
   "outputs": [],
   "source": [
    "#Output the combined csv file\n",
    "combined_csv.to_csv( \"../all_clusters.csv\", index=False, encoding='utf-8-sig')"
   ]
  }
 ],
 "metadata": {
  "kernelspec": {
   "display_name": "dsi-sg",
   "language": "python",
   "name": "dsi-sg"
  },
  "language_info": {
   "codemirror_mode": {
    "name": "ipython",
    "version": 3
   },
   "file_extension": ".py",
   "mimetype": "text/x-python",
   "name": "python",
   "nbconvert_exporter": "python",
   "pygments_lexer": "ipython3",
   "version": "3.9.13"
  }
 },
 "nbformat": 4,
 "nbformat_minor": 5
}
